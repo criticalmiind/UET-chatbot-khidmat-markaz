{
 "cells": [
  {
   "cell_type": "markdown",
   "id": "a7d85a50",
   "metadata": {},
   "source": [
    "# User Login "
   ]
  },
  {
   "cell_type": "code",
   "execution_count": 32,
   "id": "7cb767ed",
   "metadata": {},
   "outputs": [
    {
     "name": "stdout",
     "output_type": "stream",
     "text": [
      "\n",
      "Return = {'resultFlag': True, 'userId': 1, 'role': 0, 'sessionId': '10202303020607092699165252199', 'message': 'login'}\n"
     ]
    }
   ],
   "source": [
    "\"\"\"\n",
    "    Function Name: loginUser\n",
    "    Description: This function authunticate the local mobile and web user \n",
    "\n",
    "    Author: Muhammad Attaullah\n",
    "    Date: 02/03/2023\n",
    "\n",
    "    Input parameters in json format:\n",
    "           userName: string\n",
    "           password: string\n",
    "\n",
    "    Possible Outputs:\n",
    "           1.{'resultFlag': True, 'userId': 1, 'role': 0, 'sessionId': '10202302021720286871376773302', 'message': 'login'}                                                                     \n",
    "           2. {'resultFlag': False, 'message': 'invalidUser'}\n",
    "                                            \n",
    "    \"\"\"\n",
    "\n",
    "import requests\n",
    "import json\n",
    "applicationManagerAPI='https://bot.cle.org.pk/applicationManager/'\n",
    "postData = {\n",
    "            'function': 'loginUser',\n",
    "            'userName': '03345354727',\n",
    "            'password': \"12345678\"\n",
    "            }\n",
    "\n",
    "result = requests.post(applicationManagerAPI, json = postData)\n",
    "result=json.loads(result.text)\n",
    "print(f\"\\nReturn = {result}\")\n"
   ]
  },
  {
   "cell_type": "markdown",
   "id": "95a49f52",
   "metadata": {},
   "source": [
    "# SignUp User"
   ]
  },
  {
   "cell_type": "code",
   "execution_count": 5,
   "id": "3ec117ac",
   "metadata": {},
   "outputs": [
    {
     "name": "stdout",
     "output_type": "stream",
     "text": [
      "\n",
      "Result = {'resultFlag': False, 'message': 'alreadyRegistered'}\n"
     ]
    }
   ],
   "source": [
    "\"\"\"\n",
    "    Function Name: signUpUser\n",
    "    Description: This function register the new user\n",
    "\n",
    "    Author: Muhammad Attaullah\n",
    "    Date: 02/03/2023\n",
    "\n",
    "    input parameters in json format:\n",
    "           function: string\n",
    "           userName: string\n",
    "           password: string\n",
    "           city:     string\n",
    "           tehsil:   string\n",
    "           dateOfBirth: String\n",
    "           gender  : string\n",
    "\n",
    "    Possible Output:\n",
    "           1. {'resultFlag': True, 'message': 'registered.'}\n",
    "           2. {'resultFlag': False, 'message': 'alreadyRegistered'}\n",
    "          \n",
    "    \"\"\"\n",
    "\n",
    "\n",
    "\n",
    "import requests\n",
    "import json\n",
    "applicationManagerAPI='https://bot.cle.org.pk/applicationManager/'\n",
    "\n",
    "# payload\n",
    "postData = {\n",
    "            'function': 'signUpUser',\n",
    "            'userName': '03345354917',\n",
    "            'password': '12345678',\n",
    "            'city': 'Charsadda',\n",
    "            'tehsil': 'pakistan',\n",
    "            'dataOfBirth': 'password',\n",
    "            'gender': 'male'\n",
    "            }\n",
    "\n",
    "result = requests.post(applicationManagerAPI, json = postData)\n",
    "result=json.loads(result.text)\n",
    "print(f\"\\nResult = {result}\")"
   ]
  },
  {
   "cell_type": "markdown",
   "id": "dac59cf4",
   "metadata": {},
   "source": [
    "# Start Service"
   ]
  },
  {
   "cell_type": "code",
   "execution_count": 33,
   "id": "e9f0eead",
   "metadata": {},
   "outputs": [
    {
     "name": "stdout",
     "output_type": "stream",
     "text": [
      "\n",
      "Result = {'resultFlag': True, 'connectionId': '240220230302060721592366', 'sessionId': '10202303020607092699165252199', 'asrManager': 'http://202.142.159.37:7777/asrManager/', 'dialogueManager': 'http://202.142.159.37:7777/dialogueManager/', 'ttsManager': 'http://202.142.159.37:7777/ttsManager/', 'asrModel': 'wss://tech.cle.org.pk:9996/client/ws/speech', 'message': 'success'}\n"
     ]
    }
   ],
   "source": [
    "\n",
    "\n",
    "\"\"\"\n",
    "    Function Name: startService\n",
    "    Description: This function is used to get the resources like, address of asrModel, asrManager,\n",
    "                 dialogueManager, ttsManager, connectionId and sessionId\n",
    "                 \n",
    "    Author: Muhammad Attaullah\n",
    "    Date: 02/03/2023\n",
    "\n",
    "    input parameters in json format:\n",
    "           function: string\n",
    "           sessionId: string\n",
    "\n",
    "    Possible Outputs:\n",
    "    1. {'resultFlag': True, 'connectionId': '743020230202174934386370', 'sessionId': '10202302021749075186914059281', 'asrManager': 'http://192.168.1.203:8484/asrManager/', 'dialogueManager': 'http://192.168.1.203:8484/dialogueManager/', 'ttsManager': 'http://192.168.1.203:8484/ttsManager/', 'asrModel': 'ws://192.168.1.203:8484/asrModel/', 'message': 'success'}\n",
    "    2. {'resultFlag': False, 'message': 'resourceNotAvailable'}\n",
    "    3. {'resultFlag': False, 'message': 'sessionError'}    \n",
    "           \n",
    "           \"\"\"\n",
    "\n",
    "\n",
    "\n",
    "\n",
    "import requests\n",
    "import json\n",
    "applicationManagerAPI='https://bot.cle.org.pk/applicationManager/'\n",
    "\n",
    "postData = {\n",
    "            'function': 'startService',\n",
    "            'sessionId':'10202303020607092699165252199'\n",
    "            }\n",
    "\n",
    "result = requests.post(applicationManagerAPI, json = postData)\n",
    "result=json.loads(result.text)\n",
    "print(f\"\\nResult = {result}\")"
   ]
  },
  {
   "cell_type": "markdown",
   "id": "43522de8",
   "metadata": {},
   "source": [
    "# ASR Manager APIs"
   ]
  },
  {
   "cell_type": "markdown",
   "id": "4dac5e58",
   "metadata": {},
   "source": [
    "# ASR Input"
   ]
  },
  {
   "cell_type": "code",
   "execution_count": 12,
   "id": "e6c30c43",
   "metadata": {},
   "outputs": [
    {
     "name": "stdout",
     "output_type": "stream",
     "text": [
      "\n",
      " {'resultFlag': True, 'message': 'success'}\n"
     ]
    }
   ],
   "source": [
    "\n",
    "\"\"\"\n",
    "    Function Name: asrInput\n",
    "    Description: This function is used to inform the asr manager that we are going to connect the asr model\n",
    "                 it will update the time based on connectionId\n",
    "                 \n",
    "    Author: Muhammad Attaullah\n",
    "    Date: 02/03/2023\n",
    "\n",
    "    input parameters in json format:\n",
    "           function: string\n",
    "           connectionId: string\n",
    "\n",
    "    Possible Outputs in json format:\n",
    "    1. {'resultFlag': True, 'message': 'updated'}\n",
    "    2. {'resultFlag': False, 'message': 'connectionError'}   \n",
    "           \n",
    "           \"\"\"\n",
    "\n",
    "\n",
    "import requests\n",
    "import json\n",
    "applicationManagerAPI='https://bot.cle.org.pk/asrManager/'\n",
    "postData={\n",
    "            \"function\":\"asrInput\",\n",
    "            \"connectionId\":\"395420230302051214252917\",\n",
    "         }\n",
    "\n",
    "\n",
    "userInfo = requests.post(applicationManagerAPI, json = postData)\n",
    "userInfo=json.loads(userInfo.text)\n",
    "\n",
    "print(\"\\n\",userInfo)\n"
   ]
  },
  {
   "cell_type": "markdown",
   "id": "c377a87c",
   "metadata": {},
   "source": [
    "# Dialogue Manager"
   ]
  },
  {
   "cell_type": "markdown",
   "id": "1ab65e63",
   "metadata": {},
   "source": [
    "## Rasa Input"
   ]
  },
  {
   "cell_type": "code",
   "execution_count": 13,
   "id": "124464d1",
   "metadata": {},
   "outputs": [
    {
     "name": "stdout",
     "output_type": "stream",
     "text": [
      "{'resultFlag': True, 'textResponse': ['ای خدمت استعمال کرنے کا شکریہ خدا حافظ۔'], 'message': 'success'}\n"
     ]
    }
   ],
   "source": [
    "\"\"\"\"\n",
    "    Function Name: rasaInput\n",
    "    Description: This function is use to send user message to Dialogue Manager and get the best posiable \n",
    "                 response based on user Intent\n",
    "    \n",
    "    Author: Muhammad Attaullah\n",
    "    Date: 02/03/2023\n",
    "\n",
    "    input parameters in json format:\n",
    "           function: string\n",
    "           connectionId: string\n",
    "           \n",
    "\n",
    "    Possible Outputs in json format:\n",
    "    \n",
    "           1. {'resultFlag': True, 'textResponse': ['ای خدمت میں خوش آمدید۔ آپ کو کس سروس سے متعلق معلومات چاہئیں؟'], 'message': 'success'}\n",
    "           2. {'resultFlag': False, 'message': 'connectionError'}\n",
    "           3. {'resultFlag': False, 'textResponse': [], 'message': 'modelError'}\n",
    "           4. {'resultFlag': False, 'textResponse': [], 'message': 'modelNotLive'}\n",
    "           \"\"\"\n",
    "\n",
    "\n",
    "import requests\n",
    "import json\n",
    "dialogueManagerAPI='https://bot.cle.org.pk/dialogueManager/'\n",
    "postData={\"function\":\"rasaInput\",\"connectionId\":\"395420230302051214252917\",\"textMessage\":\"hello\"}\n",
    "\n",
    "result = requests.post(dialogueManagerAPI, json= postData)\n",
    "result=json.loads(result.text)\n",
    "\n",
    "print(result)\n"
   ]
  },
  {
   "cell_type": "markdown",
   "id": "1c75bbf1",
   "metadata": {},
   "source": [
    "# TTS Manager"
   ]
  },
  {
   "cell_type": "code",
   "execution_count": null,
   "id": "7a72ea61",
   "metadata": {},
   "outputs": [
    {
     "ename": "",
     "evalue": "",
     "output_type": "error",
     "traceback": [
      "\u001b[1;31mFailed to start the Kernel. \n",
      "\u001b[1;31mWindowsError: [Error 123] The filename, directory name, or volume label syntax is incorrect: u'c:\\\\Users\\\\Pandora Tech\\\\AppData\\\\Roaming\\\\jupyter\\runtime'. \n",
      "\u001b[1;31mView Jupyter <a href='command:jupyter.viewOutput'>log</a> for further details."
     ]
    }
   ],
   "source": [
    "\"\"\"\n",
    "    Function Name: doSynthesis\n",
    "    Description: This function is use to send text message to TTS Manager and get the Audio response based on text message\n",
    "   \n",
    "    Author: Muhammad Attaullah\n",
    "    Date: 02/03/2023\n",
    "\n",
    "    input parameters in json format:\n",
    "           function: string\n",
    "           connectionId: string\n",
    "           textMessage: list\n",
    "\n",
    "    Output:\n",
    "    1. {'resultFlag': True, 'audioResponse': [{'audio': 'data:audio/wav;base64,UklGRqAAAAAAA=', 'duration': '5.796'}], 'message': 'success'}\n",
    "    2. {'resultFlag': False, 'audioResponse': [], 'message': 'audioNotExist'}\n",
    "    3. {'resultFlag': False, 'message': 'connectionError'}    \n",
    "          \n",
    "           \"\"\"\n",
    "\n",
    "\n",
    "import requests\n",
    "import json\n",
    "ttsManagerAPI='https://bot.cle.org.pk/ttsManager/'\n",
    "postData={\n",
    "            \"function\":\"doSynthesis\",\n",
    "            \"connectionId\":\"395420230302051214252917\",\n",
    "            \"textMessage\":['ای خدمت استعمال کرنے کا شکریہ خدا حافظ۔']\n",
    "         }\n",
    "\n",
    "\n",
    "result = requests.post(ttsManagerAPI, json = postData)\n",
    "result=json.loads(result.text)\n",
    "\n",
    "print(\"\\n\",result)\n"
   ]
  },
  {
   "cell_type": "markdown",
   "id": "74533084",
   "metadata": {},
   "source": [
    "# Close Connection"
   ]
  },
  {
   "cell_type": "code",
   "execution_count": 34,
   "id": "0fcf9c8a",
   "metadata": {},
   "outputs": [
    {
     "name": "stdout",
     "output_type": "stream",
     "text": [
      "\n",
      " {'resultFlag': False, 'message': 'notClosed'}\n"
     ]
    }
   ],
   "source": [
    "\"\"\"\n",
    "    Function Name: connectionClose\n",
    "    Description: This function is use to inform the appliaction Manager to dealocate the resources \n",
    "    Author: Muhammad Attaullah\n",
    "    Date: 02/03/2023\n",
    "\n",
    "    input parameters in json format:\n",
    "           function: string\n",
    "           sessionId: string\n",
    "           connectionId: string\n",
    "           \n",
    "\n",
    "    Output:\n",
    "    1. {'resultFlag': True, 'message': 'connectionClosed'}\n",
    "    2. {'resultFlag': False, 'message': 'sessionError'}\n",
    "    3. {'resultFlag': False, 'message': 'notClosed'}  \n",
    "          \n",
    "           \"\"\"\n",
    "\n",
    "\n",
    "import requests\n",
    "import json\n",
    "ttsManagerAPI='http://202.142.159.37:7575/applicationManager/'\n",
    "postData={\n",
    "            \"function\":\"connectionClose\",\n",
    "            \"sessionId\":\"10202303020607092699165252199\",\n",
    "            \"connectionId\":\"259220230302055814676346\",\n",
    "            \n",
    "         }\n",
    "\n",
    "\n",
    "result = requests.post(ttsManagerAPI, json = postData)\n",
    "result=json.loads(result.text)\n",
    "\n",
    "print(\"\\n\",result)"
   ]
  },
  {
   "cell_type": "code",
   "execution_count": null,
   "id": "505d8bf8",
   "metadata": {},
   "outputs": [],
   "source": []
  },
  {
   "cell_type": "code",
   "execution_count": null,
   "id": "5ae892a6",
   "metadata": {},
   "outputs": [],
   "source": []
  }
 ],
 "metadata": {
  "kernelspec": {
   "display_name": "Python 3 (ipykernel)",
   "language": "python",
   "name": "python3"
  },
  "language_info": {
   "codemirror_mode": {
    "name": "ipython",
    "version": 3
   },
   "file_extension": ".py",
   "mimetype": "text/x-python",
   "name": "python",
   "nbconvert_exporter": "python",
   "pygments_lexer": "ipython3",
   "version": "3.9.5"
  }
 },
 "nbformat": 4,
 "nbformat_minor": 5
}
