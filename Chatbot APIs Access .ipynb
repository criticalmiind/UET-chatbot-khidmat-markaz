{
 "cells": [
  {
   "cell_type": "markdown",
   "id": "5c25fc1f",
   "metadata": {},
   "source": [
    "# Application Manager API"
   ]
  },
  {
   "cell_type": "markdown",
   "id": "d18a06a9",
   "metadata": {},
   "source": [
    "##### Application Manager has to three Functionalties which given below\n",
    "1. Login User \n",
    "2. SignUp User\n",
    "3. Start Service\n",
    "4. Close Connection"
   ]
  },
  {
   "cell_type": "markdown",
   "id": "e579d59f",
   "metadata": {},
   "source": [
    "### login User"
   ]
  },
  {
   "cell_type": "code",
   "execution_count": null,
   "id": "5ba7dbb5",
   "metadata": {},
   "outputs": [
    {
     "ename": "",
     "evalue": "",
     "output_type": "error",
     "traceback": [
      "\u001b[1;31mFailed to start the Kernel. \n",
      "\u001b[1;31mWindowsError: [Error 123] The filename, directory name, or volume label syntax is incorrect: u'c:\\\\Users\\\\Pandora Tech\\\\AppData\\\\Roaming\\\\jupyter\\runtime'. \n",
      "\u001b[1;31mView Jupyter <a href='command:jupyter.viewOutput'>log</a> for further details."
     ]
    }
   ],
   "source": [
    "\"\"\"\n",
    "    Function Name: loginUser\n",
    "    Description: This function authunticate the local mobile and web user \n",
    "\n",
    "    Author: Muhammad Attaullah\n",
    "    Date: 09/11/2022\n",
    "\n",
    "    input parameters:\n",
    "           userName: string\n",
    "           password: string\n",
    "\n",
    "    Output:\n",
    "           {'resultFlag': True, 'session': '4345678654356765', 'message': 'login'}                                  \n",
    "                                                OR\n",
    "           {'resultFlag': False, 'message': 'notRegistered'}\n",
    "                                                OR\n",
    "           {'resultFlag': False, 'message': 'wrongPassword'}\n",
    "    \"\"\"\n",
    "\n",
    "import requests\n",
    "import json\n",
    "applicationManagerAPI='https://bot.cle.org.pk/applicationManager/'\n",
    "postData = {\n",
    "            'function': 'loginUser',\n",
    "            'userName': 'cleUser',\n",
    "#             'userName': 'Atta',\n",
    "            'password': \"cle@Password\"\n",
    "#             'password': \"cle@Atta\"\n",
    "            }\n",
    "\n",
    "print(f\"Post on Application Manager = {applicationManagerAPI}\")\n",
    "print(f\"Post Data = {postData}\")\n",
    "print(f\"Post on application\")\n",
    "result = requests.post(applicationManagerAPI, json = postData)\n",
    "result=json.loads(result.text)\n",
    "\n",
    "print(f\"Application Manager Return :{result}\")"
   ]
  },
  {
   "cell_type": "markdown",
   "id": "a866350f",
   "metadata": {},
   "source": [
    "### Sign Up User"
   ]
  },
  {
   "cell_type": "code",
   "execution_count": 19,
   "id": "9037f616",
   "metadata": {},
   "outputs": [
    {
     "name": "stdout",
     "output_type": "stream",
     "text": [
      "Post on Application Manager = https://bot.cle.org.pk/applicationManager/\n",
      "Post Data = {'function': 'signUpUser', 'name': 'Atta', 'userName': '03345eeed27', 'password': '12345678', 'city': 'Charsadda', 'country': 'pakistan', 'secretQuestion': 'password', 'secretAnswer': 'password', 'gender': 'male'}\n",
      "Post on application\n",
      "Application Manager Return :{'resultFlag': True, 'message': 'registered'}\n"
     ]
    }
   ],
   "source": [
    "\"\"\"\n",
    "    Function Name: signUpUser\n",
    "    Description: This function register the new user\n",
    "\n",
    "    Author: Muhammad Attaullah\n",
    "    Date: 09/12/2022\n",
    "\n",
    "    input parameters:\n",
    "            function = string\n",
    "            name = string\n",
    "            userName = string\n",
    "            password = string\n",
    "            city = string\n",
    "            country = string\n",
    "            secretQuestion = string\n",
    "            secretAnswer = string\n",
    "            gender = string\n",
    "\n",
    "    Output:\n",
    "           {'resultFlag': True, 'message': 'registered'}\n",
    "                              OR\n",
    "           {'resultFlag': False, 'message': 'alreadyRegistered'}                       \n",
    "          \n",
    "          \"\"\"\n",
    "\n",
    "import requests\n",
    "import json\n",
    "applicationManagerAPI='https://bot.cle.org.pk/applicationManager/'\n",
    "postData = {\n",
    "            'function': 'signUpUser',\n",
    "            'name':'Atta',\n",
    "            'userName': '03345354727',\n",
    "#             'userName': '033454994927',\n",
    "            'password': '12345678',\n",
    "            'city': 'Charsadda',\n",
    "            'country': 'pakistan',\n",
    "            'secretQuestion': 'password',\n",
    "            'secretAnswer': 'password',\n",
    "            'gender': 'male'\n",
    "            }\n",
    "\n",
    "print(f\"Post on Application Manager = {applicationManagerAPI}\")\n",
    "print(f\"Post Data = {postData}\")\n",
    "print(f\"Post on application\")\n",
    "result = requests.post(applicationManagerAPI, json = postData)\n",
    "result=json.loads(result.text)\n",
    "\n",
    "print(f\"Application Manager Return :{result}\")\n",
    "\n"
   ]
  },
  {
   "cell_type": "markdown",
   "id": "433b8b80",
   "metadata": {},
   "source": [
    "### Start Service"
   ]
  },
  {
   "cell_type": "code",
   "execution_count": null,
   "id": "a3b5c4bb",
   "metadata": {},
   "outputs": [
    {
     "ename": "",
     "evalue": "",
     "output_type": "error",
     "traceback": [
      "\u001b[1;31mRunning cells with 'c:\\Users\\Pandora Tech\\AppData\\Local\\Microsoft\\WindowsApps\\python3.10.exe' requires ipykernel package.\n",
      "\u001b[1;31mRun the following command to install 'ipykernel' into the Python environment. \n",
      "\u001b[1;31mCommand: '\"c:/Users/Pandora Tech/AppData/Local/Microsoft/WindowsApps/python3.10.exe\" -m pip install ipykernel -U --user --force-reinstall'"
     ]
    }
   ],
   "source": [
    "\"\"\"\n",
    "    Function Name: startService\n",
    "    Description: This function is used to get the address of asrManager,\n",
    "                 dialogueManager, ttsManager and encrypted connectionId\n",
    "    Author: Muhammad Attaullah\n",
    "    Date: 09/12/2022\n",
    "\n",
    "    input parameters:\n",
    "           function: string\n",
    "           sessionId: string\n",
    "\n",
    "    Output:\n",
    "           {'resultFlag': True, 'connectionId': '57e797c9-b176-45db-89bd-2654968af08a', 'asrModel': 'wss://tech.cle.org.pk:9996/client/ws/speech', 'dialogueManager': 'http://bot.cle.org.pk/dialogueManager/', 'ttsManager': 'http://bot.cle.org.pk/ttsManager/', 'message': 'resources'}\n",
    "                  OR\n",
    "           {'resultFlag': False, 'message': 'sessionError'}\n",
    "                  OR\n",
    "           {'resultFlag': False, 'message': 'resourceNotAvailable'}\n",
    "           \n",
    "           \"\"\"\n",
    "\n",
    "import requests\n",
    "import json\n",
    "applicationManagerAPI='https://bot.cle.org.pk/applicationManager/'\n",
    "\n",
    "postData = {\n",
    "            'function': 'startService',\n",
    "            'sessionId':'4345678654356765'\n",
    "            #'sessionId':'4458855678654356765'\n",
    "            }\n",
    "\n",
    "print(f\"Post on Application Manager = {applicationManagerAPI}\")\n",
    "print(f\"Post Data = {postData}\")\n",
    "print(f\"Post on application\")\n",
    "result = requests.post(applicationManagerAPI, json = postData)\n",
    "result=json.loads(result.text)\n",
    "\n",
    "print(f\"Application Manager Return :{result}\")\n",
    "\n"
   ]
  },
  {
   "cell_type": "markdown",
   "id": "e7b6582e",
   "metadata": {},
   "source": [
    "### Close Connection"
   ]
  },
  {
   "cell_type": "code",
   "execution_count": 2,
   "id": "f4c83a6d",
   "metadata": {},
   "outputs": [
    {
     "name": "stdout",
     "output_type": "stream",
     "text": [
      "TTs model return :  {'resultFlag': True, 'message': 'closed'}\n"
     ]
    }
   ],
   "source": [
    "\"\"\"\n",
    "    Function Name: closeConnection\n",
    "    Description: This function is used to close the connection and deallocate the resource from backend.\n",
    "    Author: Muhammad Attaullah\n",
    "    Date: 06/01/2023\n",
    "\n",
    "    input parameters:\n",
    "           function: string\n",
    "           connectionId: string\n",
    "           sessionId: string\n",
    "\n",
    "    Output:\n",
    "           {'resultFlag': True, 'message': 'closed'}\n",
    "                  OR\n",
    "           {'resultFlag': False, 'message': 'sessionError'}\n",
    "                  OR\n",
    "           {'resultFlag': False, 'message': 'connectionError'}\n",
    "           \n",
    "           \"\"\"\n",
    "\n",
    "import requests\n",
    "import json\n",
    "\n",
    "postURl=\"https://bot.cle.org.pk/applicationManager/\"\n",
    "connectionId=\"57e797c9-b176-45db-89bd-2654968af08a\"\n",
    "sessionId=\"4345678654356765\"\n",
    "# sessionId=\"43456786377354356765\"\n",
    "#connectionId=\"57e797c98787876868778-b176-45db-89bd-265496af08a\"\n",
    "\n",
    "data = {\"function\":\"closeConnection\",\"connectionId\": connectionId,\"sessionId\":sessionId}\n",
    "\n",
    "ttsResponse = requests.post(postURl, json=data)\n",
    "\n",
    "ttsResponse = json.loads(ttsResponse.text)\n",
    "print(\"TTs model return : \",ttsResponse)"
   ]
  },
  {
   "cell_type": "markdown",
   "id": "263eefb0",
   "metadata": {},
   "source": [
    "# Asr Manager API"
   ]
  },
  {
   "cell_type": "code",
   "execution_count": 3,
   "id": "9259d51f",
   "metadata": {},
   "outputs": [
    {
     "name": "stdout",
     "output_type": "stream",
     "text": [
      "TTs model return :  {'resultFlag': True, 'asrModel': 'wss://tech.cle.org.pk:9991/client/ws/speech', 'message': 'success'}\n"
     ]
    }
   ],
   "source": [
    "\"\"\"\n",
    "    Function Name: openAsrConnection\n",
    "    Description: This function is used to get the asrModel model from asrManager.\n",
    "    Author: Muhammad Attaullah\n",
    "    Date: 06/01/2023\n",
    "\n",
    "    input parameters:\n",
    "           function: string\n",
    "           connectionId: string\n",
    "          \n",
    "\n",
    "    Output:\n",
    "           {'resultFlag': True, 'asrModel': 'wss://tech.cle.org.pk:9991/client/ws/speech', 'message': 'success'}\n",
    "                  OR\n",
    "           {'resultFlag': False, 'message': 'connectionError'}\n",
    "           \n",
    "           \"\"\"\n",
    "\n",
    "\n",
    "import requests\n",
    "import json\n",
    "\n",
    "postURl=\"https://bot.cle.org.pk/asrManager/\"\n",
    "connectionId=\"57e797c9-b176-45db-89bd-2654968af08a\"\n",
    "#connectionId=\"57e797c98787876868778-b176-45db-89bd-265496af08a\"\n",
    "\n",
    "data = {\"function\":\"openAsrConnection\",\"connectionId\": connectionId}\n",
    "\n",
    "ttsResponse = requests.post(postURl, json=data)\n",
    "\n",
    "ttsResponse = json.loads(ttsResponse.text)\n",
    "print(\"TTs model return : \",ttsResponse)"
   ]
  },
  {
   "cell_type": "markdown",
   "id": "4a931eac",
   "metadata": {},
   "source": [
    "# Dialogue Manager API\n"
   ]
  },
  {
   "cell_type": "code",
   "execution_count": 1,
   "id": "bc680427",
   "metadata": {},
   "outputs": [
    {
     "name": "stdout",
     "output_type": "stream",
     "text": [
      "Dialogue Manager return :  {'resultFlag': True, 'textResponse': [{'recipient_id': '57e797c9-b176-45db-89bd-2654968af08a', 'text': 'آپ نے کس وہیکل کا لائسنس رینیو کروانا ہے؟!License!Renewal!None!Ask Service Type!طریقہ کار!None!None!None!None!None!None!None!None!None!None'}], 'message': 'success'}\n"
     ]
    }
   ],
   "source": [
    "\"\"\"\"\n",
    "    Function Name: rasaInput\n",
    "    Description: This function is use to send user message to Dialogue Manager and get the best posiable response based on user Iintent\n",
    "    Author: Muhammad Attaullah\n",
    "    Date: 09/12/2022\n",
    "\n",
    "    input parameters:\n",
    "           function: string\n",
    "           connectionId: string\n",
    "           message: String\n",
    "\n",
    "    Output:\n",
    "           {'resultFlag': True, 'textResponse': [{'recipient_id': '57e797c9-b176-45db-89bd-2654968af08a', 'text': 'آپ نے کس وہیکل کا لائسنس رینیو کروانا ہے؟!License!Renewal!None!Ask Service Type!طریقہ کار!None!None!None!None!None!None!None!None!None!None'}], 'message': 'success'}\n",
    "                                   OR\n",
    "           {'resultFlag': False, 'message': 'connectionError'}\n",
    "          \n",
    "           \"\"\"\n",
    "\n",
    "import requests\n",
    "import json\n",
    "postURl=\"https://bot.cle.org.pk/dialogueManager/\"\n",
    "message=\"میں ںے لائسنس رینیو کروانا ہے اس کا طریقہ کار بتا دیں\"\n",
    "connectionId=\"57e797c9-b176-45db-89bd-2654968af08a\"\n",
    "\n",
    "userIdAndMessage = {\"function\":\"rasaInput\",\"connectionId\": connectionId, \"message\": message}\n",
    "\n",
    "result = requests.post(postURl, json=userIdAndMessage)\n",
    "result= json.loads(result.text)\n",
    "\n",
    "print(\"Dialogue Manager return : \",result)"
   ]
  },
  {
   "cell_type": "markdown",
   "id": "d153ee65",
   "metadata": {},
   "source": [
    "# TTS Manager API"
   ]
  },
  {
   "cell_type": "code",
   "execution_count": 18,
   "id": "68ce9c03",
   "metadata": {},
   "outputs": [
    {
     "name": "stdout",
     "output_type": "stream",
     "text": [
      "TTs model return :  {'resultFlag': False, 'message': 'connectionError'}\n"
     ]
    }
   ],
   "source": [
    "\"\"\"\n",
    "    Function Name: doSynthesis\n",
    "    Description: This function is use to send text message to TTS and get the Audio response based on text message\n",
    "    Author: Muhammad Attaullah\n",
    "    Date: 09/12/2022\n",
    "\n",
    "    input parameters:\n",
    "           function: string\n",
    "           connectionId: string\n",
    "           message: String\n",
    "\n",
    "    Output:\n",
    "          {'resultFlag': True, 'audioResponse': '{\"response\":{\"status\":\"ok\",\"encodedFile\":\"data:audio/wav;base64,UklGRuRRBgBXQVZFZm10IBAAAAABAAEAgLsAAAB3AQACA\"}}', 'message': 'success'}                        \n",
    "              OR\n",
    "        {'resultFlag': False, 'message': 'connectionError'}\n",
    "          \n",
    "           \"\"\"\n",
    "\n",
    "import requests\n",
    "import json\n",
    "\n",
    "postURl=\"https://bot.cle.org.pk/ttsManager/\"\n",
    "message=\"میں ںے لائسنس رینیو کروانا ہے اس کا طریقہ کار بتا دیں\"\n",
    "connectionId=\"57e797c9-b176-45db-89bd-2654968af08a\"\n",
    "#connectionId=\"57e797c98787876868778-b176-45db-89bd-265496af08a\"\n",
    "\n",
    "data = {\"function\":\"doSynthesis\",\"connectionId\": connectionId, \"message\": message}\n",
    "\n",
    "ttsResponse = requests.post(postURl, json=data)\n",
    "\n",
    "ttsResponse = json.loads(ttsResponse.text)\n",
    "print(\"TTs model return : \",ttsResponse)"
   ]
  },
  {
   "cell_type": "code",
   "execution_count": null,
   "id": "ac3c3a97",
   "metadata": {},
   "outputs": [],
   "source": []
  }
 ],
 "metadata": {
  "kernelspec": {
   "display_name": "Python 3",
   "language": "python",
   "name": "python3"
  },
  "language_info": {
   "codemirror_mode": {
    "name": "ipython",
    "version": 3
   },
   "file_extension": ".py",
   "mimetype": "text/x-python",
   "name": "python",
   "nbconvert_exporter": "python",
   "pygments_lexer": "ipython3",
   "version": "2.7.18 (v2.7.18:8d21aa21f2, Apr 20 2020, 13:25:05) [MSC v.1500 64 bit (AMD64)]"
  },
  "vscode": {
   "interpreter": {
    "hash": "c41245681b0c5dfdc198064911b7c792a0421ee2cbedc4ec4c9079156fd03e41"
   }
  }
 },
 "nbformat": 4,
 "nbformat_minor": 5
}
